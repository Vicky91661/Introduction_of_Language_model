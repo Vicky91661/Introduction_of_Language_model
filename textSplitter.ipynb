{
 "cells": [
  {
   "cell_type": "markdown",
   "metadata": {},
   "source": [
    "#### Getting Started With Langchain And Open AI\n",
    "\n",
    "- Get setup with LangCHain, LangSmith and LangServe\n",
    "- Use the most basic and common components of LangChain : Prompt templates, Models, and Output parsers.\n",
    "- Build a simple application with LangChain\n",
    "- Trace your application with LangSmith\n",
    "- Serve your application with LangServe"
   ]
  },
  {
   "cell_type": "markdown",
   "metadata": {},
   "source": [
    "### RAG - Retrieval Augmented Generation\n",
    "1. Data Sources : PDF, JSON, URLs, Images => Data Ingestion Technique \n",
    "2. Data Translation : Converting Huge Data to Text Chunks\n",
    "3. Embedding : Text to vectors\n",
    "4. Store the vectors in the VectorStore Database\n",
    "\n",
    "\n",
    "### Vector Database\n",
    "1. FAISS\n",
    "2. ChromaDB\n",
    "3. AstroDB"
   ]
  },
  {
   "cell_type": "markdown",
   "metadata": {},
   "source": [
    "## Retrieval Chain\n",
    "Retrieval Chain is an interface, which is responsible for quering vector store DB.\n",
    "## Data Ingestion With Documents Loaders\n",
    "- Loading a data set from a specific source.\n",
    "- https://python.langchain.com/v0.2/docs/integrations/document_loaders/\n",
    "### Document loaders\n",
    "- DocumentLoaders load data into the standard LangChain Document format.\n",
    "- Each DocumentLoader has its own specific parameters, but they can all be invoked in the same way with the .load method."
   ]
  },
  {
   "cell_type": "markdown",
   "metadata": {},
   "source": []
  }
 ],
 "metadata": {
  "kernelspec": {
   "display_name": "ann_project",
   "language": "python",
   "name": "python3"
  },
  "language_info": {
   "name": "python",
   "version": "3.12.0"
  }
 },
 "nbformat": 4,
 "nbformat_minor": 2
}
